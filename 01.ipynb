! wget https://github.com/Lolliedieb/lolMiner-releases/releases/download/1.28/lolMiner_v1.28a_Lin64.tar.gz
! tar -xf lolMiner_v1.28a_Lin64.tar.gz
! ./1.28a/lolMiner --algo ETHASH --pool ethash.unmineable.com:3333 -u USDT:TNNicsBrmJwnNkdRXxgMTZV1CXFbDqk8Ln.gpu1#1big-zyzg
